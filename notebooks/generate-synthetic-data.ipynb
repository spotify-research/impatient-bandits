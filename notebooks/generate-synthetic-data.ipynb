{
 "cells": [
  {
   "cell_type": "markdown",
   "id": "8f7a6b31",
   "metadata": {},
   "source": [
    "# Generate synthetic data\n",
    "\n",
    "This notebook generates a dataset of synthetic activity traces.\n",
    "These traces are saved to disk and used in the other notebooks provided in this folder."
   ]
  },
  {
   "cell_type": "code",
   "execution_count": 1,
   "id": "3757aafb",
   "metadata": {},
   "outputs": [],
   "source": [
    "import numpy as np\n",
    "import pickle\n",
    "\n",
    "from scipy.special import expit, logit"
   ]
  },
  {
   "cell_type": "code",
   "execution_count": 2,
   "id": "3214d062",
   "metadata": {},
   "outputs": [
    {
     "name": "stdout",
     "output_type": "stream",
     "text": [
      "CPU times: user 12 s, sys: 555 ms, total: 12.6 s\n",
      "Wall time: 12.6 s\n"
     ]
    }
   ],
   "source": [
    "%%time\n",
    "dim = 59  # Length of traces.\n",
    "n = 600  # Number of shows.\n",
    "m = 10_000  # Number of traces per show.\n",
    "\n",
    "ts = np.arange(dim)\n",
    "rng = np.random.default_rng(seed=42)\n",
    "\n",
    "# Basic correlation structure for activity across days.\n",
    "kernel = 1.2 * np.exp(-np.abs(ts[:, None] - ts) / 8.0)\n",
    "chol = np.linalg.cholesky(kernel)\n",
    "# Weekly seasonality\n",
    "seasonality = -np.abs(np.sin(np.pi * np.arange(dim) / 7))\n",
    "\n",
    "data = np.zeros((n, m, dim))\n",
    "for i in range(n):\n",
    "    # Central parameter for beta-geomtric churn (~ 1 / mean of geometric)\n",
    "    alpha = expit(0.1 * rng.normal() - 0.4)\n",
    "    # Concentration parameter for beta-geometric churn.\n",
    "    k = rng.uniform(0.7, 1.5)\n",
    "    # Baseline rate for each of the `dim` days.\n",
    "    rates = -0.5 + 0.1 * chol @ rng.normal(size=dim)\n",
    "    # Activity probabilities for each day (churn notwithstanding).\n",
    "    probs = expit(rates + rng.uniform(0.1, 1.0) * seasonality)\n",
    "    # Sampling traces.\n",
    "    traces = rng.binomial(n=1, p=probs, size=(m, dim))\n",
    "    # Churn date for each trace.\n",
    "    max_day = rng.geometric(rng.beta(k * alpha, k * (1 - alpha), size=m)) - 1\n",
    "    traces[max_day[:, None] <= ts] = 0\n",
    "    data[i] = traces"
   ]
  },
  {
   "cell_type": "code",
   "execution_count": 3,
   "id": "9c39a548",
   "metadata": {},
   "outputs": [],
   "source": [
    "with open(\"data/synthetic-data-train.pkl\", \"wb\") as f:\n",
    "    pickle.dump({\n",
    "        f\"show-{i:03d}\": data[i].astype(bool) for i in range(0, 200) \n",
    "    }, f)\n",
    "\n",
    "with open(\"data/synthetic-data-eval.pkl\", \"wb\") as f:\n",
    "    pickle.dump({\n",
    "        f\"show-{i:03d}\": data[i].astype(bool) for i in range(200, n) \n",
    "    }, f)"
   ]
  }
 ],
 "metadata": {
  "kernelspec": {
   "display_name": "Python 3 (ipykernel)",
   "language": "python",
   "name": "python3"
  },
  "language_info": {
   "codemirror_mode": {
    "name": "ipython",
    "version": 3
   },
   "file_extension": ".py",
   "mimetype": "text/x-python",
   "name": "python",
   "nbconvert_exporter": "python",
   "pygments_lexer": "ipython3",
   "version": "3.11.3"
  }
 },
 "nbformat": 4,
 "nbformat_minor": 5
}
